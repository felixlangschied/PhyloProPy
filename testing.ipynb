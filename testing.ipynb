{
 "cells": [
  {
   "cell_type": "code",
   "execution_count": 2,
   "id": "c35f94dd-1304-455d-9614-ff22c698c86a",
   "metadata": {},
   "outputs": [
    {
     "name": "stdout",
     "output_type": "stream",
     "text": [
      "{'Metazoa': [33208]}\n",
      "33208\n"
     ]
    }
   ],
   "source": [
    "from ete3 import NCBITaxa\n",
    "\n",
    "def check_taxonomy_input(lineage, ncbi):\n",
    "    \"\"\"Returns taxid as int\"\"\"\n",
    "    # check format of lineage\n",
    "    if isinstance(lineage, int):\n",
    "        return lineage\n",
    "    elif str(lineage).startswith('ncbi'):\n",
    "        return int(lineage.replace('ncbi', ''))\n",
    "    else:\n",
    "        # try to parse species name to taxid\n",
    "        name2taxid = ncbi.get_name_translator([lineage, lineage.replace('_', ' ')])\n",
    "        print(name2taxid)\n",
    "        if len(name2taxid) == 1:\n",
    "            return list(name2taxid.values())[0][0]\n",
    "\n",
    "\n",
    "ncbi = NCBITaxa()\n",
    "taxid = check_taxonomy_input('Metazoa', ncbi)\n",
    "print(taxid)\n",
    "#tree = self.ncbi.get_topology(taxids)\n"
   ]
  },
  {
   "cell_type": "code",
   "execution_count": null,
   "id": "33c0b395-4c6f-4141-8aac-fb255d3ac58e",
   "metadata": {},
   "outputs": [],
   "source": []
  },
  {
   "cell_type": "code",
   "execution_count": 6,
   "id": "e92c82b0-cb57-4673-a99a-1df3211defe6",
   "metadata": {},
   "outputs": [
    {
     "name": "stdout",
     "output_type": "stream",
     "text": [
      "33208\n",
      "None\n"
     ]
    }
   ],
   "source": []
  }
 ],
 "metadata": {
  "kernelspec": {
   "display_name": "Python 3 (ipykernel)",
   "language": "python",
   "name": "python3"
  },
  "language_info": {
   "codemirror_mode": {
    "name": "ipython",
    "version": 3
   },
   "file_extension": ".py",
   "mimetype": "text/x-python",
   "name": "python",
   "nbconvert_exporter": "python",
   "pygments_lexer": "ipython3",
   "version": "3.11.4"
  }
 },
 "nbformat": 4,
 "nbformat_minor": 5
}
